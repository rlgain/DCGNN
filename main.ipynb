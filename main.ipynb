{
 "cells": [
  {
   "cell_type": "code",
   "execution_count": 3,
   "metadata": {},
   "outputs": [],
   "source": [
    "import os\n",
    "import math\n",
    "import time\n",
    "import datetime\n",
    "import argparse\n",
    "\n",
    "import numpy as np\n",
    "import pandas as pd\n",
    "from tqdm import tqdm\n",
    "from sklearn import metrics\n",
    "import seaborn as sns\n",
    "import matplotlib.pyplot as plt\n",
    "\n",
    "import torch\n",
    "import torch.nn as nn\n",
    "import torch.nn.functional as F\n",
    "import torch.optim as optim\n",
    "\n",
    "import talib as ta\n",
    "import qlib\n",
    "from qlib.data import D\n",
    "from qlib.data.dataset.loader import QlibDataLoader\n",
    "from qlib.constant import REG_CN, REG_US\n",
    "\n",
    "\n",
    "from utlis import get_base_company, get_data, get_features_n_labels, get_windows\n",
    "from model import DCGNN, TotalLoss\n",
    "\n",
    "torch.set_num_threads(6)"
   ]
  },
  {
   "cell_type": "code",
   "execution_count": 2,
   "metadata": {},
   "outputs": [],
   "source": [
    "parser = argparse.ArgumentParser(description='Stock Prediction')\n",
    "\n",
    "parser.add_argument('--prestart_time', type=str, default='2000-01-01')\n",
    "parser.add_argument('--start_time', type=str, default='2004-10-31')\n",
    "parser.add_argument('--end_time', type=str, default='2020-01-01')\n",
    "parser.add_argument('--lagend_time', type=str, default='2020-10-31')\n",
    "parser.add_argument('--save_path', type=str, default='./output')\n",
    "parser.add_argument('--lr', type=float, default=0.0001)\n",
    "parser.add_argument('--weight_decay', type=float, default=5e-4)\n",
    "parser.add_argument('--epochs', type=int, default=400)\n",
    "parser.add_argument('--device', type=str, default='cpu')\n",
    "parser.add_argument('--window_size', type=int, default=12)\n",
    "\n",
    "args = parser.parse_args(args=[\n",
    "    '--save_path', './output',\n",
    "    '--prestart_time', '2015-06-01',\n",
    "    '--start_time', '2016-07-01',\n",
    "    '--end_time', '2020-01-01',\n",
    "    '--lagend_time', '2020-10-30',\n",
    "    ])"
   ]
  },
  {
   "cell_type": "code",
   "execution_count": 4,
   "metadata": {},
   "outputs": [],
   "source": [
    "selected_tickers = get_base_company('2014-01-01', '2020-01-01')\n",
    "all_timestamps, all_tickers, all_data = get_data('2014-01-01', '2016-06-30', selected_tickers, market='nasdaq100')"
   ]
  },
  {
   "cell_type": "code",
   "execution_count": 5,
   "metadata": {},
   "outputs": [
    {
     "name": "stdout",
     "output_type": "stream",
     "text": [
      "Loading base technical data...\n",
      "Loading indicators...\n"
     ]
    }
   ],
   "source": [
    "## features\n",
    "features, labels, company_final, final_timestamps = get_features_n_labels(args=args, selected_tickers=all_tickers)\n",
    "binary_labels = (labels > 0) * torch.ones_like(labels)"
   ]
  },
  {
   "cell_type": "code",
   "execution_count": null,
   "metadata": {},
   "outputs": [],
   "source": [
    "learning_rate = 0.0005\n",
    "total_epoch = 200\n",
    "\n",
    "device = \"cuda:1\" if torch.cuda.is_available() else \"cpu\"\n",
    "print(\"Device: '{}'.\".format(device))"
   ]
  },
  {
   "cell_type": "code",
   "execution_count": 1,
   "metadata": {},
   "outputs": [],
   "source": [
    "output_path = args.save_path + '/' + (time.strftime(r'%Y-%m-%d_%H-%M-%S',time.localtime(time.time())))\n",
    "output_filename = output_path + '/' + 'dcgnn.pt'\n",
    "train_log_filename = output_path + '/' + 'trainlog.txt'\n",
    "if not os.path.exists(output_path):\n",
    "    os.makedirs(output_path)\n",
    "    print(\"Output dir '{}' has been created.\".format(output_path))\n",
    "else:\n",
    "    print(\"Output dir '{}' is existed.\".format(output_path))\n",
    "with open(train_log_filename, 'w', encoding='utf-8') as f:\n",
    "    f.write('Train Log:' + '\\n')"
   ]
  },
  {
   "cell_type": "code",
   "execution_count": 8,
   "metadata": {},
   "outputs": [],
   "source": [
    "def train(model, optimizer, criterion, rmv_feature_num):\n",
    "    model.train()\n",
    "    total_loss = np.array([])\n",
    "    for x, y in get_windows(inputs=features, targets=binary_labels, dataset='train', device=device, shuffle=True):\n",
    "        y_hat = model(x)\n",
    "        loss = criterion(y_hat, y.long())\n",
    "        optimizer.zero_grad()\n",
    "        loss.backward(retain_graph=True)\n",
    "        torch.nn.utils.clip_grad_value_(model.parameters(), 3.)\n",
    "        optimizer.step()\n",
    "        total_loss = np.append(total_loss, loss.item())\n",
    "    train_loss = total_loss.mean()\n",
    "    return train_loss"
   ]
  },
  {
   "cell_type": "code",
   "execution_count": 9,
   "metadata": {},
   "outputs": [],
   "source": [
    "def test(model, dataset, cls_report=False):\n",
    "    all_acc = np.array([])\n",
    "    predictions = torch.Tensor([])\n",
    "    ys = torch.Tensor([])\n",
    "    model.eval()\n",
    "    \n",
    "    with torch.no_grad():\n",
    "        for x, y in get_windows(inputs=features, targets=binary_labels, dataset=dataset, device=device):\n",
    "            y_hat = model(x)\n",
    "            prediction = y_hat.max(1)[1]\n",
    "            acc = torch.eq(prediction, y).float().mean().cpu().numpy()\n",
    "            predictions = torch.cat([predictions, prediction.cpu()], dim=0)\n",
    "            ys = torch.cat([ys, y.cpu()], dim=0)\n",
    "            all_acc = np.append(all_acc, acc)\n",
    "        accuracy = torch.eq(predictions, ys).float().mean().cpu().numpy()\n",
    "    if cls_report == False:\n",
    "        return accuracy\n",
    "    else:\n",
    "        return accuracy, ys, predictions"
   ]
  },
  {
   "cell_type": "code",
   "execution_count": 10,
   "metadata": {},
   "outputs": [],
   "source": [
    "def main(model, optimizer, criterion, total_epoch, scheduler, pt=True):\n",
    "    with open(train_log_filename, 'w', encoding='utf-8') as f:\n",
    "        f.write('Train Log:' + '\\n')\n",
    "\n",
    "    best_val = -math.inf\n",
    "    loss_train_history = []\n",
    "    val_acc_history = []\n",
    "    for epoch in range(1, total_epoch+1):\n",
    "        # ---------training------------\n",
    "        train_loss = train(model, optimizer, criterion)\n",
    "        lr_temp = optimizer.param_groups[-1]['lr']\n",
    "        scheduler.step()\n",
    "        # --------evaluation-----------\n",
    "        train_acc = test(model=model, dataset='train')\n",
    "        val_acc, ys, preds = test(model=model, dataset='valid', cls_report=True)\n",
    "        loss_train_history.append(train_loss)\n",
    "        val_acc_history.append(val_acc)\n",
    "        if pt:\n",
    "            print(\"| Epoch {:3d} | TrainLoss {:6.4f} | TrainAcc {:6.4} | ValAcc {:6.4f} | ValMCC {:6.4f} | lr {:6.8f} |\".format(epoch, train_loss, train_acc, val_acc, metrics.matthews_corrcoef(ys, preds), lr_temp))\n",
    "        with open(train_log_filename, 'a', encoding='utf-8') as f:\n",
    "            f.write(\"| Epoch {:3d} | TrainLoss {:6.4f} | TrainAcc {:6.4} | ValAcc {:6.4f} | ValMCC {:6.4f} | lr {:6.8f} |\".format(epoch, train_loss, train_acc, val_acc, metrics.matthews_corrcoef(ys, preds), lr_temp) + '\\n')\n",
    "        test_acc, ys, preds = test(model=model, dataset='test', cls_report=True)\n",
    "        if pt:\n",
    "            print(\"| TestAcc {:6.4f} | TestMCC {:6.4f} |\".format(test_acc, metrics.matthews_corrcoef(ys, preds)))\n",
    "        with open(train_log_filename, 'a', encoding='utf-8') as f:\n",
    "            f.write(\"| TestAcc {:6.4f} | TestMCC {:6.4f} |\".format(test_acc, metrics.matthews_corrcoef(ys, preds)) + '\\n')\n",
    "        # -----------------------------\n",
    "        if (epoch % 5 == 0) or (val_acc > best_val):\n",
    "            if (val_acc > best_val):\n",
    "                torch.save(model, output_filename)\n",
    "                best_val = val_acc\n",
    "            valid_acc, ys, preds = test(model=model, dataset='valid', cls_report=True)\n",
    "            if pt:\n",
    "                print('VALID CLASSIFICATION: ')\n",
    "                print(metrics.classification_report(ys, preds))\n",
    "            test_acc, ys, preds = test(model=model, dataset='test', cls_report=True)\n",
    "            if pt:\n",
    "                print(\"| TestAcc {:6.4f} | TestMCC {:6.4f} |\".format(test_acc, metrics.matthews_corrcoef(ys, preds)))\n",
    "                print('TEST CLASSIFICATION: ')\n",
    "                print(metrics.classification_report(ys, preds))\n",
    "            with open(train_log_filename, 'a', encoding='utf-8') as f:\n",
    "                f.write(\"| TestAcc {:6.4f} | TestMCC {:6.4f} |\".format(test_acc, metrics.matthews_corrcoef(ys, preds)) + '\\n')\n",
    "\n",
    "    testmodel = torch.load(output_filename)\n",
    "    final_train_acc = test(model=testmodel, dataset='train')\n",
    "    final_val_acc = test(model=testmodel, dataset='valid')\n",
    "    final_test_acc = test(model=testmodel, dataset='test')\n",
    "    print(\"| TrainAcc {:6.4} | ValAcc {:6.4f} | TestAcc {:6.4f} |\".format(final_train_acc, final_val_acc, final_test_acc))\n",
    "    with open(train_log_filename, 'a', encoding='utf-8') as f:\n",
    "        f.write(\"| TrainAcc {:6.4} | ValAcc {:6.4f} | TestAcc {:6.4f} |\".format(final_train_acc, final_val_acc, final_test_acc) + '\\n')"
   ]
  },
  {
   "cell_type": "code",
   "execution_count": 2,
   "metadata": {},
   "outputs": [],
   "source": [
    "print(\"Creating model...\")\n",
    "n_feat = features.size(2)\n",
    "num_nodes = features.size(1)\n",
    "model = DCGNN(n_feat=n_feat).to(device)\n",
    "criterion = TotalLoss().to(device)\n",
    "optimizer = optim.Adam(model.parameters(), lr=learning_rate)\n",
    "scheduler = torch.optim.lr_scheduler.StepLR(optimizer, step_size=10, gamma=0.95)\n",
    "print(\"Done.\")\n",
    "\n",
    "train_log_filename = output_path + '/' + 'trainlog.txt'\n",
    "main(model, optimizer, criterion, total_epoch, scheduler, pt=False)"
   ]
  }
 ],
 "metadata": {
  "kernelspec": {
   "display_name": "py37",
   "language": "python",
   "name": "python3"
  },
  "language_info": {
   "codemirror_mode": {
    "name": "ipython",
    "version": 3
   },
   "file_extension": ".py",
   "mimetype": "text/x-python",
   "name": "python",
   "nbconvert_exporter": "python",
   "pygments_lexer": "ipython3",
   "version": "3.7.13"
  }
 },
 "nbformat": 4,
 "nbformat_minor": 2
}
